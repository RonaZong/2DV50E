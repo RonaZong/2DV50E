{
 "cells": [
  {
   "cell_type": "code",
   "execution_count": 6,
   "metadata": {
    "collapsed": true,
    "ExecuteTime": {
     "start_time": "2023-04-11T16:05:12.815459Z",
     "end_time": "2023-04-11T16:05:12.903470Z"
    }
   },
   "outputs": [],
   "source": [
    "import pandas as pd\n",
    "\n",
    "# Read file\n",
    "data = pd.read_csv(\"./Data/sample/sampleSubmission.csv\")\n",
    "\n",
    "# Select required columns\n",
    "airport_data = data[['image', 'level']]\n",
    "\n",
    "# View DataFrame\n",
    "airport_data\n",
    "\n",
    "# Group data by airport code and summarize the values\n",
    "airport_data = airport_data.groupby('image').sum()"
   ]
  },
  {
   "cell_type": "code",
   "execution_count": 5,
   "outputs": [
    {
     "data": {
      "text/plain": "             image  level\n0           1_left      0\n1          1_right      0\n2           2_left      0\n3          2_right      0\n4           3_left      0\n...            ...    ...\n53571  44346_right      0\n53572   44350_left      0\n53573  44350_right      0\n53574   44351_left      0\n53575  44351_right      0\n\n[53576 rows x 2 columns]",
      "text/html": "<div>\n<style scoped>\n    .dataframe tbody tr th:only-of-type {\n        vertical-align: middle;\n    }\n\n    .dataframe tbody tr th {\n        vertical-align: top;\n    }\n\n    .dataframe thead th {\n        text-align: right;\n    }\n</style>\n<table border=\"1\" class=\"dataframe\">\n  <thead>\n    <tr style=\"text-align: right;\">\n      <th></th>\n      <th>image</th>\n      <th>level</th>\n    </tr>\n  </thead>\n  <tbody>\n    <tr>\n      <th>0</th>\n      <td>1_left</td>\n      <td>0</td>\n    </tr>\n    <tr>\n      <th>1</th>\n      <td>1_right</td>\n      <td>0</td>\n    </tr>\n    <tr>\n      <th>2</th>\n      <td>2_left</td>\n      <td>0</td>\n    </tr>\n    <tr>\n      <th>3</th>\n      <td>2_right</td>\n      <td>0</td>\n    </tr>\n    <tr>\n      <th>4</th>\n      <td>3_left</td>\n      <td>0</td>\n    </tr>\n    <tr>\n      <th>...</th>\n      <td>...</td>\n      <td>...</td>\n    </tr>\n    <tr>\n      <th>53571</th>\n      <td>44346_right</td>\n      <td>0</td>\n    </tr>\n    <tr>\n      <th>53572</th>\n      <td>44350_left</td>\n      <td>0</td>\n    </tr>\n    <tr>\n      <th>53573</th>\n      <td>44350_right</td>\n      <td>0</td>\n    </tr>\n    <tr>\n      <th>53574</th>\n      <td>44351_left</td>\n      <td>0</td>\n    </tr>\n    <tr>\n      <th>53575</th>\n      <td>44351_right</td>\n      <td>0</td>\n    </tr>\n  </tbody>\n</table>\n<p>53576 rows × 2 columns</p>\n</div>"
     },
     "execution_count": 5,
     "metadata": {},
     "output_type": "execute_result"
    }
   ],
   "source": [],
   "metadata": {
    "collapsed": false,
    "ExecuteTime": {
     "start_time": "2023-04-11T16:04:26.523984Z",
     "end_time": "2023-04-11T16:04:26.550984Z"
    }
   }
  },
  {
   "cell_type": "code",
   "execution_count": null,
   "outputs": [],
   "source": [
    "# import os\n",
    "# import numpy as np # linear algebra\n",
    "# import pandas as pd # data processing, CSV file I/O (e.g. pd.read_csv)\n",
    "# import matplotlib.pyplot as plt # showing and rendering figures\n",
    "#\n",
    "# import torch\n",
    "# import torch.optim as optim\n",
    "# import torch.nn as nn\n",
    "# import torch.nn.functional as F\n",
    "#\n",
    "# import torchvision\n",
    "# from torchvision import datasets, transforms\n",
    "# from torch.utils.data.dataset import Dataset\n",
    "# from torchvision.datasets.utils import download_url, extract_archive\n",
    "#\n",
    "# from torch.utils.tensorboard import SummaryWriter\n",
    "# writer = SummaryWriter()\n"
   ],
   "metadata": {
    "collapsed": false
   }
  },
  {
   "cell_type": "code",
   "execution_count": 1,
   "outputs": [
    {
     "ename": "NameError",
     "evalue": "name 'torch' is not defined",
     "output_type": "error",
     "traceback": [
      "\u001B[1;31m---------------------------------------------------------------------------\u001B[0m",
      "\u001B[1;31mNameError\u001B[0m                                 Traceback (most recent call last)",
      "Cell \u001B[1;32mIn[1], line 1\u001B[0m\n\u001B[1;32m----> 1\u001B[0m gpu \u001B[38;5;241m=\u001B[39m \u001B[43mtorch\u001B[49m\u001B[38;5;241m.\u001B[39mcuda\u001B[38;5;241m.\u001B[39mis_available()\n\u001B[0;32m      2\u001B[0m device \u001B[38;5;241m=\u001B[39m torch\u001B[38;5;241m.\u001B[39mdevice(\u001B[38;5;124m\"\u001B[39m\u001B[38;5;124mcuda:0\u001B[39m\u001B[38;5;124m\"\u001B[39m \u001B[38;5;28;01mif\u001B[39;00m gpu \u001B[38;5;28;01melse\u001B[39;00m \u001B[38;5;124m\"\u001B[39m\u001B[38;5;124mcpu\u001B[39m\u001B[38;5;124m\"\u001B[39m)\n\u001B[0;32m      3\u001B[0m \u001B[38;5;28mprint\u001B[39m(\u001B[38;5;124m\"\u001B[39m\u001B[38;5;124mdevice:\u001B[39m\u001B[38;5;124m\"\u001B[39m, device)\n",
      "\u001B[1;31mNameError\u001B[0m: name 'torch' is not defined"
     ]
    }
   ],
   "source": [
    "# gpu = torch.cuda.is_available()\n",
    "# device = torch.device(\"cuda:0\" if gpu else \"cpu\")\n",
    "# print(\"device:\", device)"
   ],
   "metadata": {
    "collapsed": false
   }
  },
  {
   "cell_type": "code",
   "execution_count": null,
   "outputs": [],
   "source": [
    "# base_image_dir = os.path.join(\"/content/drive/MyDrive/University/Linnaeus University/Year 3/VT23/2DV50E/Dataset/sample\", \"input\", \"diabetic-retinopathy-detection\")"
   ],
   "metadata": {
    "collapsed": false
   }
  }
 ],
 "metadata": {
  "kernelspec": {
   "display_name": "Python 3",
   "language": "python",
   "name": "python3"
  },
  "language_info": {
   "codemirror_mode": {
    "name": "ipython",
    "version": 2
   },
   "file_extension": ".py",
   "mimetype": "text/x-python",
   "name": "python",
   "nbconvert_exporter": "python",
   "pygments_lexer": "ipython2",
   "version": "2.7.6"
  }
 },
 "nbformat": 4,
 "nbformat_minor": 0
}
